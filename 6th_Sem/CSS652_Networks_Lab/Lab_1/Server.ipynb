{
 "cells": [
  {
   "cell_type": "code",
   "execution_count": 2,
   "id": "f8e52ba3",
   "metadata": {},
   "outputs": [
    {
     "name": "stdout",
     "output_type": "stream",
     "text": [
      "socket Created\n"
     ]
    }
   ],
   "source": [
    "import socket\n",
    "s = socket.socket()\n",
    "print(\"socket Created\")"
   ]
  },
  {
   "cell_type": "code",
   "execution_count": 4,
   "id": "f7ce4366",
   "metadata": {},
   "outputs": [
    {
     "name": "stdout",
     "output_type": "stream",
     "text": [
      "Waiting for connection\n"
     ]
    }
   ],
   "source": [
    "s.bind(('localhost', 9999))\n",
    "s.listen(3)\n",
    "print(\"Waiting for connection\")"
   ]
  },
  {
   "cell_type": "code",
   "execution_count": null,
   "id": "28011faa",
   "metadata": {},
   "outputs": [],
   "source": [
    "while True:\n",
    "    c, addr = s.accept()\n",
    "    print(\"Connected with \", addr)\n",
    "    c.send(\"Welcome\")\n",
    "    c.close()"
   ]
  },
  {
   "cell_type": "code",
   "execution_count": null,
   "id": "a583c94e",
   "metadata": {},
   "outputs": [],
   "source": []
  }
 ],
 "metadata": {
  "kernelspec": {
   "display_name": "Python 3 (ipykernel)",
   "language": "python",
   "name": "python3"
  },
  "language_info": {
   "codemirror_mode": {
    "name": "ipython",
    "version": 3
   },
   "file_extension": ".py",
   "mimetype": "text/x-python",
   "name": "python",
   "nbconvert_exporter": "python",
   "pygments_lexer": "ipython3",
   "version": "3.10.9"
  }
 },
 "nbformat": 4,
 "nbformat_minor": 5
}
