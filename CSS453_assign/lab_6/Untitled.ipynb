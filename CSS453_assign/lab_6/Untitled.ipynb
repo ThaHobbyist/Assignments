{
 "cells": [
  {
   "cell_type": "code",
   "execution_count": 33,
   "id": "da718cff",
   "metadata": {},
   "outputs": [],
   "source": [
    "from sympy import *\n",
    "init_printing( use_latex = 'mathjax')\n",
    "\n",
    "import sympy.plotting as plt\n",
    "\n",
    "from IPython.display import display\n",
    "\n",
    "import numpy as np"
   ]
  },
  {
   "cell_type": "code",
   "execution_count": 26,
   "id": "32fe3b56",
   "metadata": {},
   "outputs": [],
   "source": [
    "t, a = sympy.symbols('t, a', positive=True)\n",
    "from sympy.abc import x, k\n",
    "def fourier(f, t, s):\n",
    "    return integrate(f*exp(-2*S.Pi*I*t*s), (t, -oo, oo)).simplify()"
   ]
  },
  {
   "cell_type": "code",
   "execution_count": 34,
   "id": "eecc883e",
   "metadata": {},
   "outputs": [
    {
     "data": {
      "text/latex": [
       "$\\displaystyle \\begin{cases} 0 & \\text{for}\\: \\left|{\\arg{\\left(k \\right)} - \\frac{\\pi}{2}}\\right| < \\frac{\\pi}{2} \\wedge \\left|{\\arg{\\left(k \\right)} + \\frac{\\pi}{2}}\\right| < \\frac{\\pi}{2} \\\\- \\int\\limits_{-\\infty}^{\\infty} x^{2} e^{- 2 i \\pi k x}\\, dx & \\text{otherwise} \\end{cases}$"
      ],
      "text/plain": [
       "⎧                           │         π│   π   │         π│   π\n",
       "⎪          0            for │arg(k) - ─│ < ─ ∧ │arg(k) + ─│ < ─\n",
       "⎪                           │         2│   2   │         2│   2\n",
       "⎪                                                              \n",
       "⎪ ∞                                                            \n",
       "⎨ ⌠                                                            \n",
       "⎪ ⎮   2  -2⋅ⅈ⋅π⋅k⋅x                                            \n",
       "⎪-⎮  x ⋅ℯ           dx                 otherwise               \n",
       "⎪ ⌡                                                            \n",
       "⎪ -∞                                                           \n",
       "⎩                                                              "
      ]
     },
     "execution_count": 34,
     "metadata": {},
     "output_type": "execute_result"
    }
   ],
   "source": [
    "#q1a\n",
    "f = -x**2\n",
    "fourier(f, x, k)"
   ]
  },
  {
   "cell_type": "code",
   "execution_count": null,
   "id": "19c89471",
   "metadata": {},
   "outputs": [],
   "source": []
  }
 ],
 "metadata": {
  "kernelspec": {
   "display_name": "Python 3 (ipykernel)",
   "language": "python",
   "name": "python3"
  },
  "language_info": {
   "codemirror_mode": {
    "name": "ipython",
    "version": 3
   },
   "file_extension": ".py",
   "mimetype": "text/x-python",
   "name": "python",
   "nbconvert_exporter": "python",
   "pygments_lexer": "ipython3",
   "version": "3.10.4"
  }
 },
 "nbformat": 4,
 "nbformat_minor": 5
}
