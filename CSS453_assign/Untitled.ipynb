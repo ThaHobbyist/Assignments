{
 "cells": [
  {
   "cell_type": "code",
   "execution_count": 4,
   "id": "ff72773c",
   "metadata": {},
   "outputs": [
    {
     "ename": "SyntaxError",
     "evalue": "invalid syntax (124240917.py, line 1)",
     "output_type": "error",
     "traceback": [
      "\u001b[1;36m  Input \u001b[1;32mIn [4]\u001b[1;36m\u001b[0m\n\u001b[1;33m    t = -5:0.2:20\u001b[0m\n\u001b[1;37m          ^\u001b[0m\n\u001b[1;31mSyntaxError\u001b[0m\u001b[1;31m:\u001b[0m invalid syntax\n"
     ]
    }
   ],
   "source": [
    "t = -5:0.2:20\n",
    "x = zeros(size(t));\n",
    "h = zeros(size(t));\n",
    "%% Generating x(t)\n",
    "k = 0;\n",
    "for i = t\n",
    "if i == -2\n",
    "x(k+1) = 3;\n",
    "elseif i == 1\n",
    "x(k+1) = -1;\n",
    "elseif i == 3\n",
    "x(k+1) = 2;\n",
    "else\n",
    "x(k+1) = 0;\n",
    "end\n",
    "k=k+1;\n",
    "end\n",
    "subplot(3,4,1)\n",
    "plot(t,x,'r','LineWidth',2)\n",
    "xlim([min(t) max(t)])\n",
    "ylim([min(x)-0.5 max(x)+0.5])\n",
    "xlabel('Time (s)-->')\n",
    "ylabel('waveform-->')\n",
    "title('x(t)')\n",
    "%% Generating h(t)\n",
    "k = 0;\n",
    "for i = t\n",
    "    if i >= -4 && i < 4 \n",
    "        h(k+1) = 1;\n",
    "    else\n",
    "        h(k+1) = 0;\n",
    "    end\n",
    "    k = k+1;\n",
    "end\n",
    "subplot(3,4,2)\n",
    "plot(t,h,'r','LineWidth',2)\n",
    "xlim([min(t) max(t)])\n",
    "ylim([min(h)-0.5 max(h)+0.5])\n",
    "xlabel('Time (s)-->')\n",
    "ylabel('waveform-->')\n",
    "title('h(t)')\n",
    "%% Generating Y(t) for Y(t) = x(t)*h(t)\n",
    "t1=-10:0.2:40;\n",
    "n=length(x);\n",
    "m=length(h);\n",
    "H=[x,zeros(1,m)];\n",
    "X=[h,zeros(1,n)];\n",
    "for i = 1 : n + m - 1\n",
    "y(i)=0;\n",
    "for j=1:m\n",
    "if(i-j+1 > 0)\n",
    "y(i) = y(i) + X(j) * H(i-j+1);\n",
    "end\n",
    "end\n",
    "end\n",
    "subplot(3, 4, 3)\n",
    "plot(t1,y ,'r','LineWidth',2)\n",
    "xlim([min(t1) max(t1)])\n",
    "ylim([min(y) - 0.5 max(y) + 0.5])\n",
    "xlabel('Time (s)-->')\n",
    "ylabel('waveform-->')\n",
    "title('Y(t)')\n"
   ]
  },
  {
   "cell_type": "code",
   "execution_count": null,
   "id": "c32edc31",
   "metadata": {},
   "outputs": [],
   "source": []
  }
 ],
 "metadata": {
  "kernelspec": {
   "display_name": "Python 3 (ipykernel)",
   "language": "python",
   "name": "python3"
  },
  "language_info": {
   "codemirror_mode": {
    "name": "ipython",
    "version": 3
   },
   "file_extension": ".py",
   "mimetype": "text/x-python",
   "name": "python",
   "nbconvert_exporter": "python",
   "pygments_lexer": "ipython3",
   "version": "3.10.0"
  }
 },
 "nbformat": 4,
 "nbformat_minor": 5
}
