{
 "cells": [
  {
   "cell_type": "code",
   "execution_count": 1,
   "id": "7da57324",
   "metadata": {},
   "outputs": [],
   "source": [
    "import sympy\n",
    "sympy.init_printing()\n",
    "\n",
    "import sympy.plotting as plt\n",
    "%matplotlib inline\n",
    "\n",
    "from IPython.display import display, Math\n",
    "\n",
    "import numpy as np"
   ]
  },
  {
   "cell_type": "code",
   "execution_count": 66,
   "id": "7b772420",
   "metadata": {},
   "outputs": [],
   "source": [
    "t, s = sympy.symbols('t, s', real = True)\n",
    "a = sympy.symbols('a', real=True, positive=True)\n"
   ]
  },
  {
   "cell_type": "code",
   "execution_count": 13,
   "id": "c18b6cd2",
   "metadata": {},
   "outputs": [
    {
     "data": {
      "image/png": "[encoded data removed]",
      "text/latex": [
       "$\\displaystyle \\frac{2}{s^{3}}$"
      ],
      "text/plain": [
       "2 \n",
       "──\n",
       " 3\n",
       "s "
      ]
     },
     "execution_count": 13,
     "metadata": {},
     "output_type": "execute_result"
    }
   ],
   "source": [
    "#q1a\n",
    "f = t * t\n",
    "display(sympy.laplace_transform(f, t, s)[0])"
   ]
  },
  {
   "cell_type": "code",
   "execution_count": 15,
   "id": "82a0a10a",
   "metadata": {},
   "outputs": [
    {
     "data": {
      "image/png": "[encoded data removed]",
      "text/latex": [
       "$\\displaystyle \\frac{2 \\cdot \\left(2 a + s\\right)}{\\left(a + s\\right) \\left(3 a + s\\right)}$"
      ],
      "text/plain": [
       "   2⋅(2⋅a + s)   \n",
       "─────────────────\n",
       "(a + s)⋅(3⋅a + s)"
      ]
     },
     "execution_count": 15,
     "metadata": {},
     "output_type": "execute_result"
    }
   ],
   "source": [
    "#q1b\n",
    "f = sympy.exp(-a*t)+sympy.exp(-3*a*t)\n",
    "display(sympy.laplace_transform(f, t, s)[0])"
   ]
  },
  {
   "cell_type": "code",
   "execution_count": 4,
   "id": "d59bce61",
   "metadata": {},
   "outputs": [
    {
     "data": {
      "image/png": "[encoded data removed]",
      "text/latex": [
       "$\\displaystyle \\frac{2}{\\left(s - 2\\right)^{2} + 4}$"
      ],
      "text/plain": [
       "     2      \n",
       "────────────\n",
       "       2    \n",
       "(s - 2)  + 4"
      ]
     },
     "execution_count": 4,
     "metadata": {},
     "output_type": "execute_result"
    }
   ],
   "source": [
    "#q1c\n",
    "f = sympy.exp(2*t)*sympy.sin(2*t)\n",
    "display(sympy.laplace_transform(f, t, s)[0])"
   ]
  },
  {
   "cell_type": "code",
   "execution_count": 17,
   "id": "3384b13e",
   "metadata": {},
   "outputs": [
    {
     "data": {
      "image/png": "[encoded data removed]",
      "text/latex": [
       "$\\displaystyle \\frac{s}{s^{2} + 36} - \\frac{s + 3}{\\left(s + 3\\right)^{2} + 36} + \\frac{1}{s - 3}$"
      ],
      "text/plain": [
       "   s          s + 3         1  \n",
       "─────── - ───────────── + ─────\n",
       " 2               2        s - 3\n",
       "s  + 36   (s + 3)  + 36        "
      ]
     },
     "execution_count": 17,
     "metadata": {},
     "output_type": "execute_result"
    }
   ],
   "source": [
    "#q1d\n",
    "f = sympy.exp(3*t) + sympy.cos(6*t) - sympy.exp(-3*t)*sympy.cos(6*t);\n",
    "display(sympy.laplace_transform(f, t, s)[0])"
   ]
  },
  {
   "cell_type": "code",
   "execution_count": 9,
   "id": "6cef3b7b",
   "metadata": {},
   "outputs": [
    {
     "data": {
      "image/png": "[encoded data removed]",
      "text/latex": [
       "$\\displaystyle \\frac{\\left(s e^{s} + 2 s - 2\\right) e^{- 3 s}}{s^{2}}$"
      ],
      "text/plain": [
       "⎛   s          ⎞  -3⋅s\n",
       "⎝s⋅ℯ  + 2⋅s - 2⎠⋅ℯ    \n",
       "──────────────────────\n",
       "           2          \n",
       "          s           "
      ]
     },
     "execution_count": 9,
     "metadata": {},
     "output_type": "execute_result"
    }
   ],
   "source": [
    "#q1e\n",
    "f = sympy.Heaviside(t-2) + 2*sympy.Heaviside(t-3) - 2*(t-3)*sympy.Heaviside(t-3)\n",
    "display(sympy.laplace_transform(f, t, s)[0])"
   ]
  },
  {
   "cell_type": "code",
   "execution_count": 24,
   "id": "4dc83afe",
   "metadata": {},
   "outputs": [
    {
     "data": {
      "image/png": "[encoded data removed]",
      "text/plain": [
       "<Figure size 432x288 with 4 Axes>"
      ]
     },
     "metadata": {
      "needs_background": "light"
     },
     "output_type": "display_data"
    },
    {
     "data": {
      "image/png": "[encoded data removed]",
      "text/latex": [
       "$\\displaystyle \\frac{1}{s} - \\frac{e^{- 3 s}}{s}$"
      ],
      "text/plain": [
       "     -3⋅s\n",
       "1   ℯ    \n",
       "─ - ─────\n",
       "s     s  "
      ]
     },
     "metadata": {},
     "output_type": "display_data"
    },
    {
     "data": {
      "image/png": "[encoded data removed]",
      "text/latex": [
       "$\\displaystyle \\frac{1}{s} - \\frac{e^{- 3 s}}{s}$"
      ],
      "text/plain": [
       "     -3⋅s\n",
       "1   ℯ    \n",
       "─ - ─────\n",
       "s     s  "
      ]
     },
     "metadata": {},
     "output_type": "display_data"
    }
   ],
   "source": [
    "#q2\n",
    "f = sympy.Heaviside(t)*sympy.Heaviside(3-t)\n",
    "p1 = plt.plot(f, xlabel='t --->', ylabel='f(t) --->', show=False)\n",
    "g = sympy.Heaviside(t) - sympy.Heaviside(t-3)\n",
    "p2 = plt.plot(g, xlabel='t --->', ylabel='g(t) --->', show=False)\n",
    "F = sympy.laplace_transform(f, t, s)[0]\n",
    "G = sympy.laplace_transform(g, t, s)[0]\n",
    "p3 = plt.plot(F, xlabel='s --->', ylabel='F(s) --->', show=False)\n",
    "p4 = plt.plot(G, xlabel='s --->', ylabel='G(s) --->', show=False)\n",
    "plt.PlotGrid(2, 2, p1, p2, p3, p4)\n",
    "display(F)\n",
    "display(G)"
   ]
  },
  {
   "cell_type": "code",
   "execution_count": 25,
   "id": "23d028f2",
   "metadata": {},
   "outputs": [
    {
     "data": {
      "image/png": "[encoded data removed]",
      "text/latex": [
       "$\\displaystyle \\frac{\\left(- s + e^{s} - 1\\right) e^{- 2 s}}{s^{2}}$"
      ],
      "text/plain": [
       "⎛      s    ⎞  -2⋅s\n",
       "⎝-s + ℯ  - 1⎠⋅ℯ    \n",
       "───────────────────\n",
       "          2        \n",
       "         s         "
      ]
     },
     "metadata": {},
     "output_type": "display_data"
    }
   ],
   "source": [
    "#q3\n",
    "f = (t-1)*sympy.Heaviside(t-1) + (1-t)*sympy.Heaviside(t-2)\n",
    "display(sympy.laplace_transform(f, t, s)[0])"
   ]
  },
  {
   "cell_type": "code",
   "execution_count": 54,
   "id": "a911f813",
   "metadata": {},
   "outputs": [
    {
     "data": {
      "image/png": "[encoded data removed]",
      "text/latex": [
       "$\\displaystyle 1$"
      ],
      "text/plain": [
       "1"
      ]
     },
     "metadata": {},
     "output_type": "display_data"
    }
   ],
   "source": [
    "#q4a\n",
    "F = 1/s\n",
    "display(sympy.inverse_laplace_transform(F, s, t))"
   ]
  },
  {
   "cell_type": "code",
   "execution_count": 53,
   "id": "8d17374c",
   "metadata": {},
   "outputs": [
    {
     "data": {
      "image/png": "[encoded data removed]",
      "text/latex": [
       "$\\displaystyle 4 e^{3 t} + 2 \\sin{\\left(5 t \\right)}$"
      ],
      "text/plain": [
       "   3⋅t             \n",
       "4⋅ℯ    + 2⋅sin(5⋅t)"
      ]
     },
     "metadata": {},
     "output_type": "display_data"
    }
   ],
   "source": [
    "#q4b\n",
    "F = 10/(s**2 + 25) + 4/(s-3)\n",
    "display(sympy.inverse_laplace_transform(F, s, t))"
   ]
  },
  {
   "cell_type": "code",
   "execution_count": 55,
   "id": "14b55ea3",
   "metadata": {},
   "outputs": [
    {
     "data": {
      "image/png": "[encoded data removed]",
      "text/latex": [
       "$\\displaystyle 2 \\sin{\\left(12 \\right)} \\sin{\\left(4 t \\right)} + \\frac{7 \\sin{\\left(4 t \\right)} \\cos{\\left(12 \\right)}}{4} - \\frac{7 \\sin{\\left(12 \\right)} \\cos{\\left(4 t \\right)}}{4} + 2 \\cos{\\left(12 \\right)} \\cos{\\left(4 t \\right)}$"
      ],
      "text/plain": [
       "                     7⋅sin(4⋅t)⋅cos(12)   7⋅sin(12)⋅cos(4⋅t)                  \n",
       "2⋅sin(12)⋅sin(4⋅t) + ────────────────── - ────────────────── + 2⋅cos(12)⋅cos(4\n",
       "                             4                    4                           \n",
       "\n",
       "   \n",
       "⋅t)\n",
       "   "
      ]
     },
     "metadata": {},
     "output_type": "display_data"
    }
   ],
   "source": [
    "#q4c\n",
    "F = sympy.exp(-3*s)*(2*s + 7)/(s**2 + 16)\n",
    "display(sympy.inverse_laplace_transform(F, s, t))"
   ]
  },
  {
   "cell_type": "code",
   "execution_count": 48,
   "id": "710e422d",
   "metadata": {},
   "outputs": [
    {
     "data": {
      "image/png": "[encoded data removed]",
      "text/latex": [
       "$\\displaystyle \\frac{11 e^{2 t}}{20} + \\frac{59 \\sin{\\left(4 t \\right)}}{40} + \\frac{9 \\cos{\\left(4 t \\right)}}{20}$"
      ],
      "text/plain": [
       "    2⋅t                           \n",
       "11⋅ℯ      59⋅sin(4⋅t)   9⋅cos(4⋅t)\n",
       "─────── + ─────────── + ──────────\n",
       "   20          40           20    "
      ]
     },
     "metadata": {},
     "output_type": "display_data"
    }
   ],
   "source": [
    "#q4d\n",
    "F = (s**2 + 5*s -3)/((s**2 +16)*(s-2))\n",
    "display(sympy.inverse_laplace_transform(F, s, t))"
   ]
  },
  {
   "cell_type": "code",
   "execution_count": 33,
   "id": "b8f8eadb",
   "metadata": {},
   "outputs": [
    {
     "data": {
      "image/png": "[encoded data removed]",
      "text/latex": [
       "$\\displaystyle \\frac{\\left(- 2 s + e^{2 s} - 1\\right) e^{- 4 s}}{s^{2}}$"
      ],
      "text/plain": [
       "⎛        2⋅s    ⎞  -4⋅s\n",
       "⎝-2⋅s + ℯ    - 1⎠⋅ℯ    \n",
       "───────────────────────\n",
       "            2          \n",
       "           s           "
      ]
     },
     "metadata": {},
     "output_type": "display_data"
    }
   ],
   "source": [
    "#q5\n",
    "f = (t-2)*sympy.Heaviside(t-2) + (2-t)*sympy.Heaviside(t-4)\n",
    "display(sympy.laplace_transform(f, t, s)[0])"
   ]
  },
  {
   "cell_type": "code",
   "execution_count": 71,
   "id": "7f9e1486",
   "metadata": {},
   "outputs": [
    {
     "data": {
      "image/png": "[encoded data removed]",
      "text/latex": [
       "$\\displaystyle 2 t - 1 + 4 e^{- 2 t}$"
      ],
      "text/plain": [
       "             -2⋅t\n",
       "2⋅t - 1 + 4⋅ℯ    "
      ]
     },
     "metadata": {},
     "output_type": "display_data"
    },
    {
     "data": {
      "image/png": "[encoded data removed]",
      "text/plain": [
       "<Figure size 432x288 with 1 Axes>"
      ]
     },
     "metadata": {
      "needs_background": "light"
     },
     "output_type": "display_data"
    },
    {
     "data": {
      "text/plain": [
       "<sympy.plotting.plot.Plot at 0x7f4786e86800>"
      ]
     },
     "execution_count": 71,
     "metadata": {},
     "output_type": "execute_result"
    }
   ],
   "source": [
    "#q6a\n",
    "t, s, Y = sympy.symbols('t, s, Y', positive=True)\n",
    "f = 4*t\n",
    "F = sympy.laplace_transform(f, t, s)[0]\n",
    "Y1 = s*Y - 3\n",
    "Sol = sympy.solvers.solve(Y1 + 2*Y - F, Y)\n",
    "y = sympy.inverse_laplace_transform(Sol[0], s, t)\n",
    "display(y)\n",
    "plt.plot(y, xlabel='t --->', ylabel='y(t) --->', title='Solution: ')"
   ]
  },
  {
   "cell_type": "code",
   "execution_count": 72,
   "id": "5b0344c9",
   "metadata": {},
   "outputs": [
    {
     "data": {
      "image/png": "[encoded data removed]",
      "text/latex": [
       "$\\displaystyle \\left(- 3 e^{4 t} \\theta\\left(t - 3\\right) + 3 e^{4 t} \\theta\\left(t - 1\\right) + 3 e^{12} \\theta\\left(t - 3\\right) - 3 e^{4} \\theta\\left(t - 1\\right) + 2\\right) e^{- 4 t}$"
      ],
      "text/plain": [
       "⎛     4⋅t               4⋅t               12               4             ⎞  -4\n",
       "⎝- 3⋅ℯ   ⋅θ(t - 3) + 3⋅ℯ   ⋅θ(t - 1) + 3⋅ℯ  ⋅θ(t - 3) - 3⋅ℯ ⋅θ(t - 1) + 2⎠⋅ℯ  \n",
       "\n",
       "⋅t\n",
       "  "
      ]
     },
     "metadata": {},
     "output_type": "display_data"
    },
    {
     "data": {
      "image/png": "[encoded data removed]",
      "text/plain": [
       "<Figure size 432x288 with 1 Axes>"
      ]
     },
     "metadata": {
      "needs_background": "light"
     },
     "output_type": "display_data"
    },
    {
     "data": {
      "text/plain": [
       "<sympy.plotting.plot.Plot at 0x7f4786e63880>"
      ]
     },
     "execution_count": 72,
     "metadata": {},
     "output_type": "execute_result"
    }
   ],
   "source": [
    "#q6b\n",
    "t, s, Y = sympy.symbols('t, s, Y', positive=True)\n",
    "f = (12*sympy.Heaviside(t-1) - 12*sympy.Heaviside(t-3))\n",
    "F = sympy.laplace_transform(f, t, s)[0]\n",
    "Y1 = s*Y -2\n",
    "sol = sympy.solvers.solve(Y1 + 4*Y - F, Y)[0]\n",
    "y = sympy.inverse_laplace_transform(sol, s, t)\n",
    "display(y)\n",
    "plt.plot(y, xlabel='t --->', ylabel='y(t) --->', title='Solution: ')"
   ]
  },
  {
   "cell_type": "code",
   "execution_count": 51,
   "id": "69a16ed3",
   "metadata": {},
   "outputs": [
    {
     "data": {
      "image/png": "[encoded data removed]",
      "text/plain": [
       "<Figure size 432x288 with 2 Axes>"
      ]
     },
     "metadata": {
      "needs_background": "light"
     },
     "output_type": "display_data"
    },
    {
     "data": {
      "text/plain": [
       "<sympy.plotting.plot.PlotGrid at 0x7f3c70993910>"
      ]
     },
     "execution_count": 51,
     "metadata": {},
     "output_type": "execute_result"
    }
   ],
   "source": [
    "#q7\n",
    "from sympy import oo\n",
    "\n",
    "t, s, a = sympy.symbols('t, s, a', positive=True)\n",
    "x = sympy.symbols('x')\n",
    "f = t\n",
    "f1 = sympy.exp(t)\n",
    "F = sympy.integrate(f.subs(t, x)*f1.subs(t, t-x),(x, 0, oo))\n",
    "G = sympy.inverse_laplace_transform(sympy.laplace_transform(f, t, s, noconds=True)*sympy.laplace_transform(f1, t, s, noconds=True), s, t, noconds=True)\n",
    "p1 = plt.plot(t, F.subs({a:4}), xlabel='t --->', ylabel='F --->', title='Convolution', show=False)\n",
    "p2 = plt.plot(G.subs({a:4}), xlabel='t --->', ylabel='G --->', title='Product of laplace', show=False)\n",
    "plt.PlotGrid(1, 2, p1, p2)\n"
   ]
  },
  {
   "cell_type": "code",
   "execution_count": null,
   "id": "97ae89f7",
   "metadata": {},
   "outputs": [],
   "source": []
  }
 ],
 "metadata": {
  "kernelspec": {
   "display_name": "Python 3 (ipykernel)",
   "language": "python",
   "name": "python3"
  },
  "language_info": {
   "codemirror_mode": {
    "name": "ipython",
    "version": 3
   },
   "file_extension": ".py",
   "mimetype": "text/x-python",
   "name": "python",
   "nbconvert_exporter": "python",
   "pygments_lexer": "ipython3",
   "version": "3.10.4"
  }
 },
 "nbformat": 4,
 "nbformat_minor": 5
}
